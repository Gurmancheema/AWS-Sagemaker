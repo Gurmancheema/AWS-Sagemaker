{
 "cells": [
  {
   "cell_type": "markdown",
   "id": "3716613e",
   "metadata": {},
   "source": [
    "# Creating,Learning and following these steps:\n",
    "    1.Importing necessary libraries\n",
    "    2.Creating S3 bucket\n",
    "    3.Mapping train and test data in S3\n",
    "    4.Mapping the output path of models in S3"
   ]
  },
  {
   "cell_type": "code",
   "execution_count": 1,
   "id": "56ffc798",
   "metadata": {},
   "outputs": [],
   "source": [
    "import sagemaker\n",
    "import boto3\n",
    "from sagemaker.amazon.amazon_estimator import get_image_uri\n",
    "from sagemaker.session import s3_input, Session"
   ]
  },
  {
   "cell_type": "code",
   "execution_count": 2,
   "id": "76fa15bf",
   "metadata": {},
   "outputs": [
    {
     "name": "stdout",
     "output_type": "stream",
     "text": [
      "us-east-1\n"
     ]
    }
   ],
   "source": [
    "bucket_name= 'gurmanfirstapplicationbucket'\n",
    "my_region = boto3.session.Session().region_name\n",
    "print(my_region)"
   ]
  },
  {
   "cell_type": "code",
   "execution_count": 3,
   "id": "b9c2bb4a",
   "metadata": {},
   "outputs": [
    {
     "name": "stdout",
     "output_type": "stream",
     "text": [
      "S3 created bucket successfully\n"
     ]
    },
    {
     "name": "stderr",
     "output_type": "stream",
     "text": [
      "/home/ec2-user/anaconda3/envs/python3/lib/python3.6/site-packages/boto3/compat.py:88: PythonDeprecationWarning: Boto3 will no longer support Python 3.6 starting May 30, 2022. To continue receiving service updates, bug fixes, and security updates please upgrade to Python 3.7 or later. More information can be found here: https://aws.amazon.com/blogs/developer/python-support-policy-updates-for-aws-sdks-and-tools/\n",
      "  warnings.warn(warning, PythonDeprecationWarning)\n"
     ]
    }
   ],
   "source": [
    "s3 = boto3.resource('s3')\n",
    "try:\n",
    "    if my_region =='us-east-1':\n",
    "        s3.create_bucket(Bucket=bucket_name)\n",
    "        print(\"S3 created bucket successfully\")\n",
    "except Exception as e:\n",
    "    print(\"S3 Error\",e )"
   ]
  },
  {
   "cell_type": "code",
   "execution_count": 4,
   "id": "596f3a9d",
   "metadata": {},
   "outputs": [
    {
     "name": "stdout",
     "output_type": "stream",
     "text": [
      "s3://gurmanfirstapplicationbucket/xgboost-as-a-built-in-algo/output\n"
     ]
    }
   ],
   "source": [
    "#set an output path where the trained model will be saved\n",
    "prefix='xgboost-as-a-built-in-algo'\n",
    "output_path = 's3://{}/{}/output'.format(bucket_name,prefix)\n",
    "print(output_path)"
   ]
  },
  {
   "cell_type": "markdown",
   "id": "9b651839",
   "metadata": {},
   "source": [
    "# Downloading and storing the dataset in S3"
   ]
  },
  {
   "cell_type": "code",
   "execution_count": 5,
   "id": "18ea5057",
   "metadata": {},
   "outputs": [
    {
     "name": "stdout",
     "output_type": "stream",
     "text": [
      "Success: Downloaded the dataset into the instance\n",
      "Success: Data loaded into the dataframe\n"
     ]
    }
   ],
   "source": [
    "import pandas as pd\n",
    "import urllib\n",
    "try:\n",
    "    urllib.request.urlretrieve(\"https://d1.awsstatic.com/tmt/build-train-deploy-machine-learning-model-sagemaker/bank_clean.27f01fbbdf43271788427f3682996ae29ceca05d.csv\",\n",
    "                               \"bank_clean.csv\")\n",
    "    print(\"Success: Downloaded the dataset into the instance\")\n",
    "except Exception as e:\n",
    "    print(\"Data load error\",e)\n",
    "\n",
    "try:\n",
    "    model_data = pd.read_csv(\"./bank_clean.csv\",index_col=0)\n",
    "    print(\"Success: Data loaded into the dataframe\")\n",
    "except Exception as e:\n",
    "    print(\"Data load error\",e)"
   ]
  },
  {
   "cell_type": "code",
   "execution_count": 6,
   "id": "319a0a2f",
   "metadata": {},
   "outputs": [
    {
     "name": "stdout",
     "output_type": "stream",
     "text": [
      "(28831, 61) (12357, 61)\n"
     ]
    }
   ],
   "source": [
    "#Train-test split\n",
    "\n",
    "import numpy as np\n",
    "train_data, test_data = np.split(model_data.sample(frac=1, random_state = 1720), [int(0.7 * len(model_data))])\n",
    "print(train_data.shape,test_data.shape)"
   ]
  },
  {
   "cell_type": "code",
   "execution_count": 7,
   "id": "5e1e7af8",
   "metadata": {},
   "outputs": [
    {
     "data": {
      "text/html": [
       "<div>\n",
       "<style scoped>\n",
       "    .dataframe tbody tr th:only-of-type {\n",
       "        vertical-align: middle;\n",
       "    }\n",
       "\n",
       "    .dataframe tbody tr th {\n",
       "        vertical-align: top;\n",
       "    }\n",
       "\n",
       "    .dataframe thead th {\n",
       "        text-align: right;\n",
       "    }\n",
       "</style>\n",
       "<table border=\"1\" class=\"dataframe\">\n",
       "  <thead>\n",
       "    <tr style=\"text-align: right;\">\n",
       "      <th></th>\n",
       "      <th>age</th>\n",
       "      <th>campaign</th>\n",
       "      <th>pdays</th>\n",
       "      <th>previous</th>\n",
       "      <th>no_previous_contact</th>\n",
       "      <th>not_working</th>\n",
       "      <th>job_admin.</th>\n",
       "      <th>job_blue-collar</th>\n",
       "      <th>job_entrepreneur</th>\n",
       "      <th>job_housemaid</th>\n",
       "      <th>...</th>\n",
       "      <th>day_of_week_fri</th>\n",
       "      <th>day_of_week_mon</th>\n",
       "      <th>day_of_week_thu</th>\n",
       "      <th>day_of_week_tue</th>\n",
       "      <th>day_of_week_wed</th>\n",
       "      <th>poutcome_failure</th>\n",
       "      <th>poutcome_nonexistent</th>\n",
       "      <th>poutcome_success</th>\n",
       "      <th>y_no</th>\n",
       "      <th>y_yes</th>\n",
       "    </tr>\n",
       "  </thead>\n",
       "  <tbody>\n",
       "    <tr>\n",
       "      <th>511</th>\n",
       "      <td>43</td>\n",
       "      <td>2</td>\n",
       "      <td>999</td>\n",
       "      <td>0</td>\n",
       "      <td>1</td>\n",
       "      <td>0</td>\n",
       "      <td>0</td>\n",
       "      <td>0</td>\n",
       "      <td>1</td>\n",
       "      <td>0</td>\n",
       "      <td>...</td>\n",
       "      <td>0</td>\n",
       "      <td>0</td>\n",
       "      <td>0</td>\n",
       "      <td>1</td>\n",
       "      <td>0</td>\n",
       "      <td>0</td>\n",
       "      <td>1</td>\n",
       "      <td>0</td>\n",
       "      <td>1</td>\n",
       "      <td>0</td>\n",
       "    </tr>\n",
       "    <tr>\n",
       "      <th>30587</th>\n",
       "      <td>38</td>\n",
       "      <td>5</td>\n",
       "      <td>999</td>\n",
       "      <td>0</td>\n",
       "      <td>1</td>\n",
       "      <td>0</td>\n",
       "      <td>0</td>\n",
       "      <td>1</td>\n",
       "      <td>0</td>\n",
       "      <td>0</td>\n",
       "      <td>...</td>\n",
       "      <td>0</td>\n",
       "      <td>1</td>\n",
       "      <td>0</td>\n",
       "      <td>0</td>\n",
       "      <td>0</td>\n",
       "      <td>0</td>\n",
       "      <td>1</td>\n",
       "      <td>0</td>\n",
       "      <td>1</td>\n",
       "      <td>0</td>\n",
       "    </tr>\n",
       "    <tr>\n",
       "      <th>25061</th>\n",
       "      <td>33</td>\n",
       "      <td>1</td>\n",
       "      <td>999</td>\n",
       "      <td>1</td>\n",
       "      <td>1</td>\n",
       "      <td>0</td>\n",
       "      <td>1</td>\n",
       "      <td>0</td>\n",
       "      <td>0</td>\n",
       "      <td>0</td>\n",
       "      <td>...</td>\n",
       "      <td>0</td>\n",
       "      <td>0</td>\n",
       "      <td>0</td>\n",
       "      <td>1</td>\n",
       "      <td>0</td>\n",
       "      <td>1</td>\n",
       "      <td>0</td>\n",
       "      <td>0</td>\n",
       "      <td>1</td>\n",
       "      <td>0</td>\n",
       "    </tr>\n",
       "    <tr>\n",
       "      <th>7859</th>\n",
       "      <td>49</td>\n",
       "      <td>5</td>\n",
       "      <td>999</td>\n",
       "      <td>0</td>\n",
       "      <td>1</td>\n",
       "      <td>0</td>\n",
       "      <td>1</td>\n",
       "      <td>0</td>\n",
       "      <td>0</td>\n",
       "      <td>0</td>\n",
       "      <td>...</td>\n",
       "      <td>0</td>\n",
       "      <td>1</td>\n",
       "      <td>0</td>\n",
       "      <td>0</td>\n",
       "      <td>0</td>\n",
       "      <td>0</td>\n",
       "      <td>1</td>\n",
       "      <td>0</td>\n",
       "      <td>1</td>\n",
       "      <td>0</td>\n",
       "    </tr>\n",
       "    <tr>\n",
       "      <th>10180</th>\n",
       "      <td>39</td>\n",
       "      <td>6</td>\n",
       "      <td>999</td>\n",
       "      <td>0</td>\n",
       "      <td>1</td>\n",
       "      <td>0</td>\n",
       "      <td>1</td>\n",
       "      <td>0</td>\n",
       "      <td>0</td>\n",
       "      <td>0</td>\n",
       "      <td>...</td>\n",
       "      <td>0</td>\n",
       "      <td>0</td>\n",
       "      <td>1</td>\n",
       "      <td>0</td>\n",
       "      <td>0</td>\n",
       "      <td>0</td>\n",
       "      <td>1</td>\n",
       "      <td>0</td>\n",
       "      <td>1</td>\n",
       "      <td>0</td>\n",
       "    </tr>\n",
       "  </tbody>\n",
       "</table>\n",
       "<p>5 rows × 61 columns</p>\n",
       "</div>"
      ],
      "text/plain": [
       "       age  campaign  pdays  previous  no_previous_contact  not_working  \\\n",
       "511     43         2    999         0                    1            0   \n",
       "30587   38         5    999         0                    1            0   \n",
       "25061   33         1    999         1                    1            0   \n",
       "7859    49         5    999         0                    1            0   \n",
       "10180   39         6    999         0                    1            0   \n",
       "\n",
       "       job_admin.  job_blue-collar  job_entrepreneur  job_housemaid  ...  \\\n",
       "511             0                0                 1              0  ...   \n",
       "30587           0                1                 0              0  ...   \n",
       "25061           1                0                 0              0  ...   \n",
       "7859            1                0                 0              0  ...   \n",
       "10180           1                0                 0              0  ...   \n",
       "\n",
       "       day_of_week_fri  day_of_week_mon  day_of_week_thu  day_of_week_tue  \\\n",
       "511                  0                0                0                1   \n",
       "30587                0                1                0                0   \n",
       "25061                0                0                0                1   \n",
       "7859                 0                1                0                0   \n",
       "10180                0                0                1                0   \n",
       "\n",
       "       day_of_week_wed  poutcome_failure  poutcome_nonexistent  \\\n",
       "511                  0                 0                     1   \n",
       "30587                0                 0                     1   \n",
       "25061                0                 1                     0   \n",
       "7859                 0                 0                     1   \n",
       "10180                0                 0                     1   \n",
       "\n",
       "       poutcome_success  y_no  y_yes  \n",
       "511                   0     1      0  \n",
       "30587                 0     1      0  \n",
       "25061                 0     1      0  \n",
       "7859                  0     1      0  \n",
       "10180                 0     1      0  \n",
       "\n",
       "[5 rows x 61 columns]"
      ]
     },
     "execution_count": 7,
     "metadata": {},
     "output_type": "execute_result"
    }
   ],
   "source": [
    "train_data.head()"
   ]
  },
  {
   "cell_type": "code",
   "execution_count": 8,
   "id": "e4773b1c",
   "metadata": {},
   "outputs": [],
   "source": [
    "#Saving train and test data into the buckets\n",
    "#We start with the train data first\n",
    "import os \n",
    "pd.concat([train_data['y_yes'], train_data.drop(['y_no', 'y_yes'], \n",
    "                                                axis=1)], \n",
    "                                                axis=1).to_csv('train.csv', index=False, header=False)\n",
    "boto3.Session().resource('s3').Bucket(bucket_name).Object(os.path.join(prefix, 'train/train.csv')).upload_file('train.csv')\n",
    "s3_input_train = sagemaker.TrainingInput(s3_data='s3://{}/{}/train'.format(bucket_name, prefix), content_type='csv')"
   ]
  },
  {
   "cell_type": "code",
   "execution_count": 9,
   "id": "0d9dd076",
   "metadata": {},
   "outputs": [],
   "source": [
    "#Now puttin test data into buckets\n",
    "pd.concat([test_data['y_yes'], test_data.drop(['y_no', 'y_yes'], \n",
    "                                                axis=1)], \n",
    "                                                axis=1).to_csv('test.csv', index=False, header=False)\n",
    "boto3.Session().resource('s3').Bucket(bucket_name).Object(os.path.join(prefix, 'test/test.csv')).upload_file('test.csv')\n",
    "s3_input_test = sagemaker.TrainingInput(s3_data='s3://{}/{}/test'.format(bucket_name, prefix), content_type='csv')"
   ]
  },
  {
   "cell_type": "markdown",
   "id": "6199d415",
   "metadata": {},
   "source": [
    "# Building Models Xgboot- Inbuilt Algorithm"
   ]
  },
  {
   "cell_type": "code",
   "execution_count": 14,
   "id": "75eef8d1",
   "metadata": {},
   "outputs": [
    {
     "name": "stderr",
     "output_type": "stream",
     "text": [
      "The method get_image_uri has been renamed in sagemaker>=2.\n",
      "See: https://sagemaker.readthedocs.io/en/stable/v2.html for details.\n"
     ]
    }
   ],
   "source": [
    "# this line automatically looks for the XGBoost image URI and builds an XGBoost container.\n",
    "# specify the repo_version depending on your preference.\n",
    "container =get_image_uri(boto3.Session().region_name,\n",
    "                          'xgboost', \n",
    "                          repo_version='1.0-1')"
   ]
  },
  {
   "cell_type": "code",
   "execution_count": 11,
   "id": "9ce48801",
   "metadata": {},
   "outputs": [],
   "source": [
    "# initialize hyperparameters\n",
    "hyperparameters = {\n",
    "        \"max_depth\":\"5\",\n",
    "        \"eta\":\"0.2\",\n",
    "        \"gamma\":\"4\",\n",
    "        \"min_child_weight\":\"6\",\n",
    "        \"subsample\":\"0.7\",\n",
    "        \"objective\":\"binary:logistic\",\n",
    "        \"num_round\":50\n",
    "        }"
   ]
  },
  {
   "cell_type": "code",
   "execution_count": 15,
   "id": "ec65bb8e",
   "metadata": {},
   "outputs": [
    {
     "name": "stderr",
     "output_type": "stream",
     "text": [
      "train_instance_count has been renamed in sagemaker>=2.\n",
      "See: https://sagemaker.readthedocs.io/en/stable/v2.html for details.\n",
      "train_instance_type has been renamed in sagemaker>=2.\n",
      "See: https://sagemaker.readthedocs.io/en/stable/v2.html for details.\n",
      "train_max_run has been renamed in sagemaker>=2.\n",
      "See: https://sagemaker.readthedocs.io/en/stable/v2.html for details.\n",
      "train_use_spot_instances has been renamed in sagemaker>=2.\n",
      "See: https://sagemaker.readthedocs.io/en/stable/v2.html for details.\n",
      "train_max_wait has been renamed in sagemaker>=2.\n",
      "See: https://sagemaker.readthedocs.io/en/stable/v2.html for details.\n",
      "train_volume_size has been renamed in sagemaker>=2.\n",
      "See: https://sagemaker.readthedocs.io/en/stable/v2.html for details.\n"
     ]
    }
   ],
   "source": [
    "# construct a SageMaker estimator that calls the xgboost-container\n",
    "estimator = sagemaker.estimator.Estimator(image_uri=container, \n",
    "                                          hyperparameters=hyperparameters,\n",
    "                                          role=sagemaker.get_execution_role(),\n",
    "                                          train_instance_count=1, \n",
    "                                          train_instance_type='ml.m5.2xlarge', \n",
    "                                          train_volume_size=5, # 5 GB \n",
    "                                          output_path=output_path,\n",
    "                                          train_use_spot_instances=True,\n",
    "                                          train_max_run=300,\n",
    "                                          train_max_wait=600)"
   ]
  },
  {
   "cell_type": "code",
   "execution_count": 16,
   "id": "2e99f4fe",
   "metadata": {},
   "outputs": [
    {
     "name": "stdout",
     "output_type": "stream",
     "text": [
      "2022-04-29 14:17:16 Starting - Starting the training job...\n",
      "2022-04-29 14:17:21 Starting - Launching requested ML instancesProfilerReport-1651241836: InProgress\n",
      ".........\n",
      "2022-04-29 14:19:17 Starting - Preparing the instances for training...\n",
      "2022-04-29 14:19:45 Downloading - Downloading input data\n",
      "2022-04-29 14:19:45 Training - Downloading the training image...\n",
      "2022-04-29 14:20:17 Training - Training image download completed. Training in progress..\u001b[34mINFO:sagemaker-containers:Imported framework sagemaker_xgboost_container.training\u001b[0m\n",
      "\u001b[34mINFO:sagemaker-containers:Failed to parse hyperparameter objective value binary:logistic to Json.\u001b[0m\n",
      "\u001b[34mReturning the value itself\u001b[0m\n",
      "\u001b[34mINFO:sagemaker-containers:No GPUs detected (normal if no gpus installed)\u001b[0m\n",
      "\u001b[34mINFO:sagemaker_xgboost_container.training:Running XGBoost Sagemaker in algorithm mode\u001b[0m\n",
      "\u001b[34mINFO:root:Determined delimiter of CSV input is ','\u001b[0m\n",
      "\u001b[34mINFO:root:Determined delimiter of CSV input is ','\u001b[0m\n",
      "\u001b[34mINFO:root:Determined delimiter of CSV input is ','\u001b[0m\n",
      "\u001b[34m[14:20:17] 28831x59 matrix with 1701029 entries loaded from /opt/ml/input/data/train?format=csv&label_column=0&delimiter=,\u001b[0m\n",
      "\u001b[34mINFO:root:Determined delimiter of CSV input is ','\u001b[0m\n",
      "\u001b[34m[14:20:17] 12357x59 matrix with 729063 entries loaded from /opt/ml/input/data/validation?format=csv&label_column=0&delimiter=,\u001b[0m\n",
      "\u001b[34mINFO:root:Single node training.\u001b[0m\n",
      "\u001b[34mINFO:root:Train matrix has 28831 rows\u001b[0m\n",
      "\u001b[34mINFO:root:Validation matrix has 12357 rows\u001b[0m\n",
      "\u001b[34m[14:20:17] WARNING: /workspace/src/learner.cc:328: \u001b[0m\n",
      "\u001b[34mParameters: { num_round } might not be used.\n",
      "  This may not be accurate due to some parameters are only used in language bindings but\n",
      "  passed down to XGBoost core.  Or some parameters are not used but slip through this\n",
      "  verification. Please open an issue if you find above cases.\u001b[0m\n",
      "\u001b[34m[0]#011train-error:0.10170#011validation-error:0.10140\u001b[0m\n",
      "\u001b[34m[1]#011train-error:0.10159#011validation-error:0.10116\u001b[0m\n",
      "\u001b[34m[2]#011train-error:0.10142#011validation-error:0.10181\u001b[0m\n",
      "\u001b[34m[3]#011train-error:0.10118#011validation-error:0.10213\u001b[0m\n",
      "\u001b[34m[4]#011train-error:0.10100#011validation-error:0.10124\u001b[0m\n",
      "\u001b[34m[5]#011train-error:0.10107#011validation-error:0.10132\u001b[0m\n",
      "\u001b[34m[6]#011train-error:0.10125#011validation-error:0.10035\u001b[0m\n",
      "\u001b[34m[7]#011train-error:0.10118#011validation-error:0.10027\u001b[0m\n",
      "\u001b[34m[8]#011train-error:0.10104#011validation-error:0.10148\u001b[0m\n",
      "\u001b[34m[9]#011train-error:0.10069#011validation-error:0.10148\u001b[0m\n",
      "\u001b[34m[10]#011train-error:0.10052#011validation-error:0.10067\u001b[0m\n",
      "\u001b[34m[11]#011train-error:0.10066#011validation-error:0.10059\u001b[0m\n",
      "\u001b[34m[12]#011train-error:0.10021#011validation-error:0.10091\u001b[0m\n",
      "\u001b[34m[13]#011train-error:0.10031#011validation-error:0.10067\u001b[0m\n",
      "\u001b[34m[14]#011train-error:0.10010#011validation-error:0.10075\u001b[0m\n",
      "\u001b[34m[15]#011train-error:0.10062#011validation-error:0.10027\u001b[0m\n",
      "\u001b[34m[16]#011train-error:0.10031#011validation-error:0.09978\u001b[0m\n",
      "\u001b[34m[17]#011train-error:0.09993#011validation-error:0.10027\u001b[0m\n",
      "\u001b[34m[18]#011train-error:0.10007#011validation-error:0.10035\u001b[0m\n",
      "\u001b[34m[19]#011train-error:0.09975#011validation-error:0.10010\u001b[0m\n",
      "\u001b[34m[20]#011train-error:0.09968#011validation-error:0.10019\u001b[0m\n",
      "\u001b[34m[21]#011train-error:0.09986#011validation-error:0.10059\u001b[0m\n",
      "\u001b[34m[22]#011train-error:0.09965#011validation-error:0.10091\u001b[0m\n",
      "\u001b[34m[23]#011train-error:0.09941#011validation-error:0.10083\u001b[0m\n",
      "\u001b[34m[24]#011train-error:0.09941#011validation-error:0.10051\u001b[0m\n",
      "\u001b[34m[25]#011train-error:0.09958#011validation-error:0.10067\u001b[0m\n",
      "\u001b[34m[26]#011train-error:0.09941#011validation-error:0.10067\u001b[0m\n",
      "\u001b[34m[27]#011train-error:0.09944#011validation-error:0.10067\u001b[0m\n",
      "\u001b[34m[28]#011train-error:0.09968#011validation-error:0.10051\u001b[0m\n",
      "\u001b[34m[29]#011train-error:0.09944#011validation-error:0.10043\u001b[0m\n",
      "\u001b[34m[30]#011train-error:0.09920#011validation-error:0.10075\u001b[0m\n",
      "\u001b[34m[31]#011train-error:0.09944#011validation-error:0.10035\u001b[0m\n",
      "\u001b[34m[32]#011train-error:0.09910#011validation-error:0.10075\u001b[0m\n",
      "\u001b[34m[33]#011train-error:0.09923#011validation-error:0.10075\u001b[0m\n",
      "\u001b[34m[34]#011train-error:0.09916#011validation-error:0.10043\u001b[0m\n",
      "\u001b[34m[35]#011train-error:0.09916#011validation-error:0.10043\u001b[0m\n",
      "\u001b[34m[36]#011train-error:0.09913#011validation-error:0.10051\u001b[0m\n",
      "\u001b[34m[37]#011train-error:0.09899#011validation-error:0.10083\u001b[0m\n",
      "\u001b[34m[38]#011train-error:0.09910#011validation-error:0.10091\u001b[0m\n",
      "\u001b[34m[39]#011train-error:0.09923#011validation-error:0.10108\u001b[0m\n",
      "\u001b[34m[40]#011train-error:0.09916#011validation-error:0.10100\u001b[0m\n",
      "\u001b[34m[41]#011train-error:0.09896#011validation-error:0.10043\u001b[0m\n",
      "\u001b[34m[42]#011train-error:0.09899#011validation-error:0.10035\u001b[0m\n",
      "\u001b[34m[43]#011train-error:0.09906#011validation-error:0.10043\u001b[0m\n",
      "\u001b[34m[44]#011train-error:0.09913#011validation-error:0.10075\u001b[0m\n",
      "\u001b[34m[45]#011train-error:0.09923#011validation-error:0.10067\u001b[0m\n",
      "\u001b[34m[46]#011train-error:0.09916#011validation-error:0.10051\u001b[0m\n",
      "\u001b[34m[47]#011train-error:0.09930#011validation-error:0.10027\u001b[0m\n",
      "\u001b[34m[48]#011train-error:0.09913#011validation-error:0.10051\u001b[0m\n",
      "\u001b[34m[49]#011train-error:0.09889#011validation-error:0.10051\u001b[0m\n",
      "\n",
      "2022-04-29 14:20:38 Uploading - Uploading generated training model\n",
      "2022-04-29 14:20:38 Completed - Training job completed\n",
      "Training seconds: 57\n",
      "Billable seconds: 27\n",
      "Managed Spot Training savings: 52.6%\n"
     ]
    }
   ],
   "source": [
    "estimator.fit({'train': s3_input_train,'validation': s3_input_test})"
   ]
  },
  {
   "cell_type": "markdown",
   "id": "e7db7812",
   "metadata": {},
   "source": [
    "# Deploy Machine Learning Models"
   ]
  },
  {
   "cell_type": "code",
   "execution_count": 18,
   "id": "5f25cbdd",
   "metadata": {},
   "outputs": [
    {
     "name": "stdout",
     "output_type": "stream",
     "text": [
      "---------!"
     ]
    }
   ],
   "source": [
    "xgb_predictor = estimator.deploy(initial_instance_count=1,instance_type='ml.m4.xlarge')"
   ]
  },
  {
   "cell_type": "markdown",
   "id": "d7add3a6",
   "metadata": {},
   "source": [
    "# Prediction of the Test Data"
   ]
  },
  {
   "cell_type": "code",
   "execution_count": 23,
   "id": "ad61271c",
   "metadata": {},
   "outputs": [
    {
     "name": "stderr",
     "output_type": "stream",
     "text": [
      "The csv_serializer has been renamed in sagemaker>=2.\n",
      "See: https://sagemaker.readthedocs.io/en/stable/v2.html for details.\n"
     ]
    },
    {
     "name": "stdout",
     "output_type": "stream",
     "text": [
      "(12357,)\n"
     ]
    }
   ],
   "source": [
    "from sagemaker.predictor import csv_serializer\n",
    "test_data_array = test_data.drop(['y_no', 'y_yes'], axis=1).values #load the data into an array\n",
    "xgb_predictor.serializer = csv_serializer # set the serializer type\n",
    "predictions = xgb_predictor.predict(test_data_array).decode('utf-8') # predict!\n",
    "predictions_array = np.fromstring(predictions[1:], sep=',') # and turn the prediction into an array\n",
    "print(predictions_array.shape)"
   ]
  },
  {
   "cell_type": "code",
   "execution_count": 24,
   "id": "c273b85c",
   "metadata": {},
   "outputs": [
    {
     "data": {
      "text/plain": [
       "array([0.08086   , 0.0429633 , 0.24573205, ..., 0.11874115, 0.06065132,\n",
       "       0.05397812])"
      ]
     },
     "execution_count": 24,
     "metadata": {},
     "output_type": "execute_result"
    }
   ],
   "source": [
    "predictions_array"
   ]
  },
  {
   "cell_type": "code",
   "execution_count": 25,
   "id": "a9685930",
   "metadata": {},
   "outputs": [
    {
     "name": "stdout",
     "output_type": "stream",
     "text": [
      "\n",
      "Overall Classification Rate: 89.9%\n",
      "\n",
      "Predicted      No Purchase    Purchase\n",
      "Observed\n",
      "No Purchase    91% (10826)    34% (152)\n",
      "Purchase        9% (1090)     66% (289) \n",
      "\n"
     ]
    }
   ],
   "source": [
    "cm = pd.crosstab(index=test_data['y_yes'], columns=np.round(predictions_array), rownames=['Observed'], colnames=['Predicted'])\n",
    "tn = cm.iloc[0,0]; fn = cm.iloc[1,0]; tp = cm.iloc[1,1]; fp = cm.iloc[0,1]; p = (tp+tn)/(tp+tn+fp+fn)*100\n",
    "print(\"\\n{0:<20}{1:<4.1f}%\\n\".format(\"Overall Classification Rate: \", p))\n",
    "print(\"{0:<15}{1:<15}{2:>8}\".format(\"Predicted\", \"No Purchase\", \"Purchase\"))\n",
    "print(\"Observed\")\n",
    "print(\"{0:<15}{1:<2.0f}% ({2:<}){3:>6.0f}% ({4:<})\".format(\"No Purchase\", tn/(tn+fn)*100,tn, fp/(tp+fp)*100, fp))\n",
    "print(\"{0:<16}{1:<1.0f}% ({2:<}){3:>7.0f}% ({4:<}) \\n\".format(\"Purchase\", fn/(tn+fn)*100,fn, tp/(tp+fp)*100, tp))"
   ]
  },
  {
   "cell_type": "markdown",
   "id": "ffcaf64a",
   "metadata": {},
   "source": [
    "# Deleting the endpoints"
   ]
  },
  {
   "cell_type": "code",
   "execution_count": 26,
   "id": "15546a19",
   "metadata": {},
   "outputs": [
    {
     "name": "stderr",
     "output_type": "stream",
     "text": [
      "The endpoint attribute has been renamed in sagemaker>=2.\n",
      "See: https://sagemaker.readthedocs.io/en/stable/v2.html for details.\n",
      "/home/ec2-user/anaconda3/envs/python3/lib/python3.6/site-packages/boto3/compat.py:88: PythonDeprecationWarning: Boto3 will no longer support Python 3.6 starting May 30, 2022. To continue receiving service updates, bug fixes, and security updates please upgrade to Python 3.7 or later. More information can be found here: https://aws.amazon.com/blogs/developer/python-support-policy-updates-for-aws-sdks-and-tools/\n",
      "  warnings.warn(warning, PythonDeprecationWarning)\n"
     ]
    },
    {
     "data": {
      "text/plain": [
       "[{'ResponseMetadata': {'RequestId': 'NW8ENXSRNKVWDGTC',\n",
       "   'HostId': 'Zh6cS3AMXIDagssiKHRkjTtUb2omf1FpeQVFe0M5aqSCbQSbmbFojZuMjS5CaYAabHIudwtbcbg=',\n",
       "   'HTTPStatusCode': 200,\n",
       "   'HTTPHeaders': {'x-amz-id-2': 'Zh6cS3AMXIDagssiKHRkjTtUb2omf1FpeQVFe0M5aqSCbQSbmbFojZuMjS5CaYAabHIudwtbcbg=',\n",
       "    'x-amz-request-id': 'NW8ENXSRNKVWDGTC',\n",
       "    'date': 'Fri, 29 Apr 2022 15:04:11 GMT',\n",
       "    'content-type': 'application/xml',\n",
       "    'transfer-encoding': 'chunked',\n",
       "    'server': 'AmazonS3',\n",
       "    'connection': 'close'},\n",
       "   'RetryAttempts': 0},\n",
       "  'Deleted': [{'Key': 'xgboost-as-a-built-in-algo/output/sagemaker-xgboost-2022-04-29-14-17-16-555/rule-output/ProfilerReport-1651241836/profiler-output/profiler-reports/BatchSize.json'},\n",
       "   {'Key': 'xgboost-as-a-built-in-algo/output/sagemaker-xgboost-2022-04-29-14-17-16-555/rule-output/ProfilerReport-1651241836/profiler-output/profiler-report.html'},\n",
       "   {'Key': 'xgboost-as-a-built-in-algo/output/sagemaker-xgboost-2022-04-29-14-17-16-555/profiler-output/system/incremental/2022042914/1651241940.algo-1.json'},\n",
       "   {'Key': 'xgboost-as-a-built-in-algo/output/sagemaker-xgboost-2022-04-29-14-17-16-555/rule-output/ProfilerReport-1651241836/profiler-output/profiler-reports/GPUMemoryIncrease.json'},\n",
       "   {'Key': 'xgboost-as-a-built-in-algo/train/train.csv'},\n",
       "   {'Key': 'xgboost-as-a-built-in-algo/output/sagemaker-xgboost-2022-04-29-14-17-16-555/rule-output/ProfilerReport-1651241836/profiler-output/profiler-reports/IOBottleneck.json'},\n",
       "   {'Key': 'xgboost-as-a-built-in-algo/output/sagemaker-xgboost-2022-04-29-14-17-16-555/rule-output/ProfilerReport-1651241836/profiler-output/profiler-reports/LowGPUUtilization.json'},\n",
       "   {'Key': 'xgboost-as-a-built-in-algo/output/sagemaker-xgboost-2022-04-29-14-17-16-555/rule-output/ProfilerReport-1651241836/profiler-output/profiler-reports/CPUBottleneck.json'},\n",
       "   {'Key': 'xgboost-as-a-built-in-algo/test/test.csv'},\n",
       "   {'Key': 'xgboost-as-a-built-in-algo/output/sagemaker-xgboost-2022-04-29-14-17-16-555/rule-output/ProfilerReport-1651241836/profiler-output/profiler-reports/Dataloader.json'},\n",
       "   {'Key': 'xgboost-as-a-built-in-algo/output/sagemaker-xgboost-2022-04-29-14-17-16-555/rule-output/ProfilerReport-1651241836/profiler-output/profiler-reports/MaxInitializationTime.json'},\n",
       "   {'Key': 'xgboost-as-a-built-in-algo/output/sagemaker-xgboost-2022-04-29-14-17-16-555/profiler-output/framework/training_job_end.ts'},\n",
       "   {'Key': 'xgboost-as-a-built-in-algo/output/sagemaker-xgboost-2022-04-29-14-17-16-555/profiler-output/system/training_job_end.ts'},\n",
       "   {'Key': 'xgboost-as-a-built-in-algo/output/sagemaker-xgboost-2022-04-29-14-17-16-555/rule-output/ProfilerReport-1651241836/profiler-output/profiler-reports/OverallFrameworkMetrics.json'},\n",
       "   {'Key': 'xgboost-as-a-built-in-algo/output/sagemaker-xgboost-2022-04-29-14-17-16-555/output/model.tar.gz'},\n",
       "   {'Key': 'xgboost-as-a-built-in-algo/output/sagemaker-xgboost-2022-04-29-14-17-16-555/rule-output/ProfilerReport-1651241836/profiler-output/profiler-report.ipynb'},\n",
       "   {'Key': 'xgboost-as-a-built-in-algo/output/sagemaker-xgboost-2022-04-29-14-17-16-555/rule-output/ProfilerReport-1651241836/profiler-output/profiler-reports/StepOutlier.json'},\n",
       "   {'Key': 'xgboost-as-a-built-in-algo/output/sagemaker-xgboost-2022-04-29-14-17-16-555/profiler-output/system/incremental/2022042914/1651242000.algo-1.json'},\n",
       "   {'Key': 'xgboost-as-a-built-in-algo/output/sagemaker-xgboost-2022-04-29-14-17-16-555/rule-output/ProfilerReport-1651241836/profiler-output/profiler-reports/OverallSystemUsage.json'},\n",
       "   {'Key': 'xgboost-as-a-built-in-algo/output/sagemaker-xgboost-2022-04-29-14-17-16-555/rule-output/ProfilerReport-1651241836/profiler-output/profiler-reports/LoadBalancing.json'}]}]"
      ]
     },
     "execution_count": 26,
     "metadata": {},
     "output_type": "execute_result"
    }
   ],
   "source": [
    "sagemaker.Session().delete_endpoint(xgb_predictor.endpoint)\n",
    "bucket_to_delete = boto3.resource('s3').Bucket(bucket_name)\n",
    "bucket_to_delete.objects.all().delete()"
   ]
  },
  {
   "cell_type": "code",
   "execution_count": null,
   "id": "8f8c02d2",
   "metadata": {},
   "outputs": [],
   "source": []
  }
 ],
 "metadata": {
  "kernelspec": {
   "display_name": "conda_python3",
   "language": "python",
   "name": "conda_python3"
  },
  "language_info": {
   "codemirror_mode": {
    "name": "ipython",
    "version": 3
   },
   "file_extension": ".py",
   "mimetype": "text/x-python",
   "name": "python",
   "nbconvert_exporter": "python",
   "pygments_lexer": "ipython3",
   "version": "3.6.13"
  }
 },
 "nbformat": 4,
 "nbformat_minor": 5
}
